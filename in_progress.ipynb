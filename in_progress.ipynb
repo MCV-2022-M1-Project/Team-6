{
 "cells": [
  {
   "cell_type": "code",
   "execution_count": 1,
   "id": "4ef3c57f",
   "metadata": {},
   "outputs": [
    {
     "name": "stdout",
     "output_type": "stream",
     "text": [
      "Requirement already satisfied: imutils in c:\\users\\pepte\\anaconda3\\envs\\proj1\\lib\\site-packages (0.5.4)\n",
      "Requirement already satisfied: matplotlib in c:\\users\\pepte\\anaconda3\\envs\\proj1\\lib\\site-packages (3.5.1)\n",
      "Requirement already satisfied: pyparsing>=2.2.1 in c:\\users\\pepte\\anaconda3\\envs\\proj1\\lib\\site-packages (from matplotlib) (3.0.4)\n",
      "Requirement already satisfied: numpy>=1.17 in c:\\users\\pepte\\anaconda3\\envs\\proj1\\lib\\site-packages (from matplotlib) (1.21.5)\n",
      "Requirement already satisfied: packaging>=20.0 in c:\\users\\pepte\\anaconda3\\envs\\proj1\\lib\\site-packages (from matplotlib) (21.3)\n",
      "Requirement already satisfied: pillow>=6.2.0 in c:\\users\\pepte\\anaconda3\\envs\\proj1\\lib\\site-packages (from matplotlib) (9.0.1)\n",
      "Requirement already satisfied: python-dateutil>=2.7 in c:\\users\\pepte\\anaconda3\\envs\\proj1\\lib\\site-packages (from matplotlib) (2.8.2)\n",
      "Requirement already satisfied: kiwisolver>=1.0.1 in c:\\users\\pepte\\anaconda3\\envs\\proj1\\lib\\site-packages (from matplotlib) (1.3.2)\n",
      "Requirement already satisfied: cycler>=0.10 in c:\\users\\pepte\\anaconda3\\envs\\proj1\\lib\\site-packages (from matplotlib) (0.11.0)\n",
      "Requirement already satisfied: fonttools>=4.22.0 in c:\\users\\pepte\\anaconda3\\envs\\proj1\\lib\\site-packages (from matplotlib) (4.25.0)\n",
      "Requirement already satisfied: six>=1.5 in c:\\users\\pepte\\anaconda3\\envs\\proj1\\lib\\site-packages (from python-dateutil>=2.7->matplotlib) (1.16.0)\n"
     ]
    }
   ],
   "source": [
    "#imports and packages\n",
    "!pip install imutils\n",
    "!pip install matplotlib"
   ]
  },
  {
   "cell_type": "code",
   "execution_count": 62,
   "id": "cd11aa4c",
   "metadata": {
    "tags": [
     "parameters"
    ]
   },
   "outputs": [],
   "source": [
    "from imutils import paths\n",
    "import os\n",
    "import cv2\n",
    "import matplotlib.pyplot as plt\n",
    "import numpy as np\n",
    "import math\n",
    "\n",
    "#parameters\n",
    "run_on_all_images = False            # Run the script over all images from a query set\n",
    "image_names = [\"00001.jpg\",\"00002.jpg\"]          # Names of images to run the script on in case the script is not run on all images\n",
    "query_set = 1                        # Which query set of images to run the script on (1 = Q1, 2 = Q2)\n",
    "grayscale_method = 'a'               # Method used to convert image to grayscale (a = average, w = weighted)\n",
    "similarity_method = 'e'              # The equation used for calculating similarity measures (e = euclidean distance, l = L1 distance, x = X square distance, i = histogram intersection)\n",
    "input_folder_q1 = '../Data/qsd1_w1'  # Path to the folder containing the first query set of images\n",
    "input_folder_q2 = '../Data/qsd2_w1'  # Path to the folder containing the second query set of images\n",
    "input_folder_bd = '../Data/bbdd'     # Path tp the folder containing the image database (comparison images)\n",
    "output = 10                          # Number of results to be returned"
   ]
  },
  {
   "cell_type": "code",
   "execution_count": 32,
   "id": "dd4928af",
   "metadata": {},
   "outputs": [],
   "source": [
    "# utils\n",
    "\n",
    "def get_grayscale(image):\n",
    "    R, G, B = image[:,:,0], image[:,:,1], image[:,:,2]\n",
    "    if grayscale_method == 'a':\n",
    "        img_gray = (R + G + B) / 3 \n",
    "    else:\n",
    "        img_gray = 0.2126 * R + 0.7152 * G + 0.0722 * B\n",
    "    return np.float32(img_gray)\n",
    "\n",
    "def get_histogram(image):\n",
    "    return cv2.calcHist([image],[0],None,[256],[0,256])\n",
    "\n",
    "def get_similarity(query_histogram, bd_histogram):\n",
    "    distance = 0\n",
    "    if similarity_method == 'e':\n",
    "        distance = euclidian_distance_comparison(query_histogram, bd_histogram)\n",
    "    elif similarity_method == 'l':\n",
    "        distance = l1_distance_comparison(query_histogram, bd_histogram)\n",
    "    elif similarity_method == 'x':\n",
    "        distance = x_square_distance_comparison(query_histogram, bd_histogram)\n",
    "    elif similarity_method == 'i':\n",
    "        distance = intersection_comparison(query_histogram, bd_histogram)\n",
    "    return distance\n",
    "\n",
    "def euclidian_distance_comparison(query_histogram, bd_histogram):\n",
    "    dist = 0\n",
    "    for i in range(256):\n",
    "        dist += (query_histogram[i] - bd_histogram[i])**2\n",
    "    return math.sqrt(dist)\n",
    "\n",
    "def l1_distance_comparison(query_histogram, bd_histogram):\n",
    "    dist = 0\n",
    "    for i in range(256):\n",
    "        dist += abs(query_histogram[i] - bd_histogram[i])\n",
    "    return dist\n",
    "\n",
    "def x_square_distance_comparison(query_histogram, bd_histogram):\n",
    "    dist = 0\n",
    "    for i in range(256):\n",
    "        dist += (query_histogram[i] - bd_histogram[i])**2/(query_histogram[i] + bd_histogram[i])\n",
    "    return dist\n",
    "\n",
    "def intersection_comparison(query_histogram, bd_histogram):\n",
    "    return cv2.compareHist(query_histogram, bd_histogram, cv2.HISTCMP_INTERSECT)\n"
   ]
  },
  {
   "cell_type": "code",
   "execution_count": 63,
   "id": "9f15f839",
   "metadata": {},
   "outputs": [
    {
     "name": "stdout",
     "output_type": "stream",
     "text": [
      "[['../Data/bbdd\\\\bbdd_00176.jpg', '../Data/bbdd\\\\bbdd_00124.jpg', '../Data/bbdd\\\\bbdd_00172.jpg', '../Data/bbdd\\\\bbdd_00047.jpg', '../Data/bbdd\\\\bbdd_00074.jpg', '../Data/bbdd\\\\bbdd_00148.jpg', '../Data/bbdd\\\\bbdd_00005.jpg', '../Data/bbdd\\\\bbdd_00122.jpg', '../Data/bbdd\\\\bbdd_00065.jpg', '../Data/bbdd\\\\bbdd_00068.jpg'], ['../Data/bbdd\\\\bbdd_00246.jpg', '../Data/bbdd\\\\bbdd_00133.jpg', '../Data/bbdd\\\\bbdd_00157.jpg', '../Data/bbdd\\\\bbdd_00002.jpg', '../Data/bbdd\\\\bbdd_00229.jpg', '../Data/bbdd\\\\bbdd_00212.jpg', '../Data/bbdd\\\\bbdd_00049.jpg', '../Data/bbdd\\\\bbdd_00208.jpg', '../Data/bbdd\\\\bbdd_00242.jpg', '../Data/bbdd\\\\bbdd_00115.jpg']]\n"
     ]
    }
   ],
   "source": [
    "histograms = {}\n",
    "similarities = {}\n",
    "sorted_similarities = {}\n",
    "result = []\n",
    "input_folder = input_folder_q1\n",
    "if query_set == 2:\n",
    "    input_folder = input_folder_q2\n",
    "\n",
    "# Get image paths (either all or for the given names)\n",
    "query_image_paths = []\n",
    "if run_on_all_images:\n",
    "    query_image_paths = list(paths.list_images(input_folder))\n",
    "else:\n",
    "    for image_name in image_names:\n",
    "        query_image_paths.append(input_folder + '/' + image_name)\n",
    "        \n",
    "# Get data base image paths\n",
    "bd_image_paths = list(paths.list_images(input_folder_bd))\n",
    "for bd_image_path in bd_image_paths:\n",
    "    image = cv2.imread(bd_image_path)\n",
    "    img_gray = get_grayscale(image)\n",
    "    type(histograms)\n",
    "    histograms[bd_image_path] = get_histogram(img_gray)\n",
    "\n",
    "\n",
    "# Traverse query images and calculate similarities\n",
    "for query_image_path in query_image_paths:\n",
    "    image = cv2.imread(query_image_path)\n",
    "    img_gray = get_grayscale(image)\n",
    "    histograms[query_image_path] = get_histogram(img_gray)\n",
    "    similarities[query_image_path] = []\n",
    "    for bd_image_path in bd_image_paths:\n",
    "        similarity = get_similarity(histograms[query_image_path], histograms[bd_image_path])\n",
    "        similarities[query_image_path].append((bd_image_path, similarity))\n",
    "    # Sort similarities array by the second value in the tuples (similarity calculation)\n",
    "    sorted_similarities[query_image_path] = sorted(list(similarities[query_image_path]), key=lambda tup: tup[1])\n",
    "    \n",
    "    # Results\n",
    "    result.append([tup[0] for tup in list(sorted_similarities[query_image_path])[:output]])\n",
    "#TODO: extract int from the file name in the path\n",
    "print(result)"
   ]
  },
  {
   "cell_type": "code",
   "execution_count": null,
   "id": "22995bcb",
   "metadata": {},
   "outputs": [],
   "source": [
    "Tot = len(imagePaths)\n",
    "Cols = 5\n",
    "Rows = Tot // Cols \n",
    "\n",
    "if Tot % Cols != 0:\n",
    "    Rows += 1\n",
    "\n",
    "Position = range(1,Tot + 1)"
   ]
  }
 ],
 "metadata": {
  "celltoolbar": "Tags",
  "kernelspec": {
   "display_name": "Python 3 (ipykernel)",
   "language": "python",
   "name": "python3"
  },
  "language_info": {
   "codemirror_mode": {
    "name": "ipython",
    "version": 3
   },
   "file_extension": ".py",
   "mimetype": "text/x-python",
   "name": "python",
   "nbconvert_exporter": "python",
   "pygments_lexer": "ipython3",
   "version": "3.8.13"
  }
 },
 "nbformat": 4,
 "nbformat_minor": 5
}
